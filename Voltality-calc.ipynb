{
 "cells": [
  {
   "cell_type": "code",
   "execution_count": 1,
   "id": "8f55cefa-f86a-4e6e-8d72-05c97fc268c7",
   "metadata": {
    "tags": []
   },
   "outputs": [
    {
     "name": "stdout",
     "output_type": "stream",
     "text": [
      "/notebooks\n"
     ]
    },
    {
     "name": "stderr",
     "output_type": "stream",
     "text": [
      "/usr/local/lib/python3.11/dist-packages/IPython/core/magics/osm.py:417: UserWarning: using dhist requires you to install the `pickleshare` library.\n",
      "  self.shell.db['dhist'] = compress_dhist(dhist)[-100:]\n"
     ]
    }
   ],
   "source": [
    "cd .."
   ]
  },
  {
   "cell_type": "code",
   "execution_count": 2,
   "id": "c7b27874-7852-42f3-8ac0-14c6b284e172",
   "metadata": {
    "tags": []
   },
   "outputs": [],
   "source": [
    "import pandas as pd \n",
    "import numpy as np"
   ]
  },
  {
   "cell_type": "code",
   "execution_count": 6,
   "id": "8bd3b67d-6d01-4978-955e-f86b89326b25",
   "metadata": {
    "tags": []
   },
   "outputs": [],
   "source": [
    "df2=pd.read_csv(\"full-nifty-spot.csv\")"
   ]
  },
  {
   "cell_type": "code",
   "execution_count": 8,
   "id": "67e97212-f8af-4847-b557-0d314594be12",
   "metadata": {
    "tags": []
   },
   "outputs": [
    {
     "name": "stdout",
     "output_type": "stream",
     "text": [
      "File-merge.py           indian-nifty-and-banknifty-options-data-2020-2024.zip\n",
      "README.md               \u001b[0m\u001b[01;34moptions-data\u001b[0m/\n",
      "Untitled.ipynb          \u001b[01;34mpinn_option_pricing\u001b[0m/\n",
      "full-nifty-options.csv  quick_start_pytorch.ipynb\n",
      "full-nifty-spot.csv     \u001b[01;34mquick_start_pytorch_images\u001b[0m/\n"
     ]
    }
   ],
   "source": [
    "ls\n"
   ]
  },
  {
   "cell_type": "code",
   "execution_count": 9,
   "id": "7282dc7c-9c34-4978-a4c0-64b7cdc5cf2f",
   "metadata": {
    "tags": []
   },
   "outputs": [
    {
     "data": {
      "text/html": [
       "<div>\n",
       "<style scoped>\n",
       "    .dataframe tbody tr th:only-of-type {\n",
       "        vertical-align: middle;\n",
       "    }\n",
       "\n",
       "    .dataframe tbody tr th {\n",
       "        vertical-align: top;\n",
       "    }\n",
       "\n",
       "    .dataframe thead th {\n",
       "        text-align: right;\n",
       "    }\n",
       "</style>\n",
       "<table border=\"1\" class=\"dataframe\">\n",
       "  <thead>\n",
       "    <tr style=\"text-align: right;\">\n",
       "      <th></th>\n",
       "      <th>date</th>\n",
       "      <th>time</th>\n",
       "      <th>symbol</th>\n",
       "      <th>open</th>\n",
       "      <th>high</th>\n",
       "      <th>low</th>\n",
       "      <th>close</th>\n",
       "    </tr>\n",
       "  </thead>\n",
       "  <tbody>\n",
       "    <tr>\n",
       "      <th>0</th>\n",
       "      <td>2023-08-08</td>\n",
       "      <td>09:15:00</td>\n",
       "      <td>BANKNIFTY</td>\n",
       "      <td>44888.95</td>\n",
       "      <td>44926.70</td>\n",
       "      <td>44830.45</td>\n",
       "      <td>44883.10</td>\n",
       "    </tr>\n",
       "    <tr>\n",
       "      <th>1</th>\n",
       "      <td>2023-08-08</td>\n",
       "      <td>09:16:00</td>\n",
       "      <td>BANKNIFTY</td>\n",
       "      <td>44871.45</td>\n",
       "      <td>44916.10</td>\n",
       "      <td>44871.45</td>\n",
       "      <td>44896.75</td>\n",
       "    </tr>\n",
       "    <tr>\n",
       "      <th>2</th>\n",
       "      <td>2023-08-08</td>\n",
       "      <td>09:17:00</td>\n",
       "      <td>BANKNIFTY</td>\n",
       "      <td>44901.75</td>\n",
       "      <td>44917.15</td>\n",
       "      <td>44889.25</td>\n",
       "      <td>44890.85</td>\n",
       "    </tr>\n",
       "    <tr>\n",
       "      <th>3</th>\n",
       "      <td>2023-08-08</td>\n",
       "      <td>09:18:00</td>\n",
       "      <td>BANKNIFTY</td>\n",
       "      <td>44891.00</td>\n",
       "      <td>44910.70</td>\n",
       "      <td>44885.50</td>\n",
       "      <td>44910.70</td>\n",
       "    </tr>\n",
       "    <tr>\n",
       "      <th>4</th>\n",
       "      <td>2023-08-08</td>\n",
       "      <td>09:19:00</td>\n",
       "      <td>BANKNIFTY</td>\n",
       "      <td>44910.90</td>\n",
       "      <td>44913.45</td>\n",
       "      <td>44895.50</td>\n",
       "      <td>44910.50</td>\n",
       "    </tr>\n",
       "  </tbody>\n",
       "</table>\n",
       "</div>"
      ],
      "text/plain": [
       "         date      time     symbol      open      high       low     close\n",
       "0  2023-08-08  09:15:00  BANKNIFTY  44888.95  44926.70  44830.45  44883.10\n",
       "1  2023-08-08  09:16:00  BANKNIFTY  44871.45  44916.10  44871.45  44896.75\n",
       "2  2023-08-08  09:17:00  BANKNIFTY  44901.75  44917.15  44889.25  44890.85\n",
       "3  2023-08-08  09:18:00  BANKNIFTY  44891.00  44910.70  44885.50  44910.70\n",
       "4  2023-08-08  09:19:00  BANKNIFTY  44910.90  44913.45  44895.50  44910.50"
      ]
     },
     "execution_count": 9,
     "metadata": {},
     "output_type": "execute_result"
    }
   ],
   "source": [
    "df.head()"
   ]
  },
  {
   "cell_type": "code",
   "execution_count": 10,
   "id": "7a872d02-4e3f-44e2-a56c-2c9dbab5fa1f",
   "metadata": {
    "tags": []
   },
   "outputs": [
    {
     "name": "stdout",
     "output_type": "stream",
     "text": [
      "<class 'pandas.core.frame.DataFrame'>\n",
      "RangeIndex: 92310 entries, 0 to 92309\n",
      "Data columns (total 7 columns):\n",
      " #   Column  Non-Null Count  Dtype  \n",
      "---  ------  --------------  -----  \n",
      " 0   date    92310 non-null  object \n",
      " 1   time    92310 non-null  object \n",
      " 2   symbol  92310 non-null  object \n",
      " 3   open    92310 non-null  float64\n",
      " 4   high    92310 non-null  float64\n",
      " 5   low     92310 non-null  float64\n",
      " 6   close   92310 non-null  float64\n",
      "dtypes: float64(4), object(3)\n",
      "memory usage: 4.9+ MB\n"
     ]
    }
   ],
   "source": [
    "df.info()"
   ]
  },
  {
   "cell_type": "code",
   "execution_count": 11,
   "id": "78adca00-4424-4f6d-a711-986c89ca681b",
   "metadata": {
    "tags": []
   },
   "outputs": [
    {
     "data": {
      "text/html": [
       "<div>\n",
       "<style scoped>\n",
       "    .dataframe tbody tr th:only-of-type {\n",
       "        vertical-align: middle;\n",
       "    }\n",
       "\n",
       "    .dataframe tbody tr th {\n",
       "        vertical-align: top;\n",
       "    }\n",
       "\n",
       "    .dataframe thead th {\n",
       "        text-align: right;\n",
       "    }\n",
       "</style>\n",
       "<table border=\"1\" class=\"dataframe\">\n",
       "  <thead>\n",
       "    <tr style=\"text-align: right;\">\n",
       "      <th></th>\n",
       "      <th>open</th>\n",
       "      <th>high</th>\n",
       "      <th>low</th>\n",
       "      <th>close</th>\n",
       "    </tr>\n",
       "  </thead>\n",
       "  <tbody>\n",
       "    <tr>\n",
       "      <th>count</th>\n",
       "      <td>92310.000000</td>\n",
       "      <td>92310.000000</td>\n",
       "      <td>92310.000000</td>\n",
       "      <td>92310.000000</td>\n",
       "    </tr>\n",
       "    <tr>\n",
       "      <th>mean</th>\n",
       "      <td>43557.011397</td>\n",
       "      <td>43567.767111</td>\n",
       "      <td>43546.026122</td>\n",
       "      <td>43556.964325</td>\n",
       "    </tr>\n",
       "    <tr>\n",
       "      <th>std</th>\n",
       "      <td>2004.617107</td>\n",
       "      <td>2003.516088</td>\n",
       "      <td>2005.533525</td>\n",
       "      <td>2004.608879</td>\n",
       "    </tr>\n",
       "    <tr>\n",
       "      <th>min</th>\n",
       "      <td>38621.550000</td>\n",
       "      <td>38645.750000</td>\n",
       "      <td>38613.150000</td>\n",
       "      <td>38618.950000</td>\n",
       "    </tr>\n",
       "    <tr>\n",
       "      <th>25%</th>\n",
       "      <td>42249.975000</td>\n",
       "      <td>42261.625000</td>\n",
       "      <td>42239.512500</td>\n",
       "      <td>42250.700000</td>\n",
       "    </tr>\n",
       "    <tr>\n",
       "      <th>50%</th>\n",
       "      <td>43836.575000</td>\n",
       "      <td>43846.325000</td>\n",
       "      <td>43826.675000</td>\n",
       "      <td>43836.750000</td>\n",
       "    </tr>\n",
       "    <tr>\n",
       "      <th>75%</th>\n",
       "      <td>44624.512500</td>\n",
       "      <td>44633.650000</td>\n",
       "      <td>44615.187500</td>\n",
       "      <td>44624.250000</td>\n",
       "    </tr>\n",
       "    <tr>\n",
       "      <th>max</th>\n",
       "      <td>48610.200000</td>\n",
       "      <td>48631.000000</td>\n",
       "      <td>48600.200000</td>\n",
       "      <td>48614.050000</td>\n",
       "    </tr>\n",
       "  </tbody>\n",
       "</table>\n",
       "</div>"
      ],
      "text/plain": [
       "               open          high           low         close\n",
       "count  92310.000000  92310.000000  92310.000000  92310.000000\n",
       "mean   43557.011397  43567.767111  43546.026122  43556.964325\n",
       "std     2004.617107   2003.516088   2005.533525   2004.608879\n",
       "min    38621.550000  38645.750000  38613.150000  38618.950000\n",
       "25%    42249.975000  42261.625000  42239.512500  42250.700000\n",
       "50%    43836.575000  43846.325000  43826.675000  43836.750000\n",
       "75%    44624.512500  44633.650000  44615.187500  44624.250000\n",
       "max    48610.200000  48631.000000  48600.200000  48614.050000"
      ]
     },
     "execution_count": 11,
     "metadata": {},
     "output_type": "execute_result"
    }
   ],
   "source": [
    "df.describe()"
   ]
  },
  {
   "cell_type": "code",
   "execution_count": 12,
   "id": "9640e118-4dbc-4a55-a78c-3e06e4acadf7",
   "metadata": {
    "tags": []
   },
   "outputs": [],
   "source": [
    "import numpy as np\n",
    "\n",
    "df['log_ret'] = np.log(df['close'] / df['close'].shift(1))\n",
    "vol_daily = df['log_ret'].std()\n",
    "returns_per_day = df['date'].nunique() / len(df)\n",
    "vol_annualized = vol_daily * np.sqrt(252 / returns_per_day)"
   ]
  },
  {
   "cell_type": "code",
   "execution_count": 13,
   "id": "8ac8c199-36db-499d-bae5-d41315e55a05",
   "metadata": {
    "tags": []
   },
   "outputs": [
    {
     "name": "stdout",
     "output_type": "stream",
     "text": [
      "0.3972855052630831\n"
     ]
    }
   ],
   "source": [
    "print(vol_annualized)"
   ]
  },
  {
   "cell_type": "code",
   "execution_count": 3,
   "id": "83a6f8af-c50b-4751-8d6f-6f10ac4f65d4",
   "metadata": {
    "tags": []
   },
   "outputs": [
    {
     "data": {
      "text/html": [
       "<div>\n",
       "<style scoped>\n",
       "    .dataframe tbody tr th:only-of-type {\n",
       "        vertical-align: middle;\n",
       "    }\n",
       "\n",
       "    .dataframe tbody tr th {\n",
       "        vertical-align: top;\n",
       "    }\n",
       "\n",
       "    .dataframe thead th {\n",
       "        text-align: right;\n",
       "    }\n",
       "</style>\n",
       "<table border=\"1\" class=\"dataframe\">\n",
       "  <thead>\n",
       "    <tr style=\"text-align: right;\">\n",
       "      <th></th>\n",
       "      <th>date</th>\n",
       "      <th>time</th>\n",
       "      <th>symbol</th>\n",
       "      <th>open</th>\n",
       "      <th>high</th>\n",
       "      <th>low</th>\n",
       "      <th>close</th>\n",
       "      <th>oi</th>\n",
       "      <th>volume</th>\n",
       "    </tr>\n",
       "  </thead>\n",
       "  <tbody>\n",
       "    <tr>\n",
       "      <th>0</th>\n",
       "      <td>2023-08-28</td>\n",
       "      <td>09:50:00</td>\n",
       "      <td>BANKNIFTY31AUG2337500CE</td>\n",
       "      <td>6780.00</td>\n",
       "      <td>6780.00</td>\n",
       "      <td>6780.00</td>\n",
       "      <td>6780.00</td>\n",
       "      <td>8955.0</td>\n",
       "      <td>16</td>\n",
       "    </tr>\n",
       "    <tr>\n",
       "      <th>1</th>\n",
       "      <td>2023-08-28</td>\n",
       "      <td>10:22:00</td>\n",
       "      <td>BANKNIFTY31AUG2337500CE</td>\n",
       "      <td>6794.90</td>\n",
       "      <td>6794.90</td>\n",
       "      <td>6794.90</td>\n",
       "      <td>6794.90</td>\n",
       "      <td>8940.0</td>\n",
       "      <td>15</td>\n",
       "    </tr>\n",
       "    <tr>\n",
       "      <th>2</th>\n",
       "      <td>2023-08-28</td>\n",
       "      <td>10:58:00</td>\n",
       "      <td>BANKNIFTY31AUG2337500CE</td>\n",
       "      <td>6836.15</td>\n",
       "      <td>6836.15</td>\n",
       "      <td>6836.15</td>\n",
       "      <td>6836.15</td>\n",
       "      <td>8925.0</td>\n",
       "      <td>15</td>\n",
       "    </tr>\n",
       "    <tr>\n",
       "      <th>3</th>\n",
       "      <td>2023-08-28</td>\n",
       "      <td>10:59:00</td>\n",
       "      <td>BANKNIFTY31AUG2337500CE</td>\n",
       "      <td>6836.15</td>\n",
       "      <td>6836.15</td>\n",
       "      <td>6820.00</td>\n",
       "      <td>6820.00</td>\n",
       "      <td>8895.0</td>\n",
       "      <td>30</td>\n",
       "    </tr>\n",
       "    <tr>\n",
       "      <th>4</th>\n",
       "      <td>2023-08-28</td>\n",
       "      <td>11:05:00</td>\n",
       "      <td>BANKNIFTY31AUG2337500CE</td>\n",
       "      <td>6850.00</td>\n",
       "      <td>6850.00</td>\n",
       "      <td>6850.00</td>\n",
       "      <td>6850.00</td>\n",
       "      <td>8880.0</td>\n",
       "      <td>45</td>\n",
       "    </tr>\n",
       "  </tbody>\n",
       "</table>\n",
       "</div>"
      ],
      "text/plain": [
       "         date      time                   symbol     open     high      low  \\\n",
       "0  2023-08-28  09:50:00  BANKNIFTY31AUG2337500CE  6780.00  6780.00  6780.00   \n",
       "1  2023-08-28  10:22:00  BANKNIFTY31AUG2337500CE  6794.90  6794.90  6794.90   \n",
       "2  2023-08-28  10:58:00  BANKNIFTY31AUG2337500CE  6836.15  6836.15  6836.15   \n",
       "3  2023-08-28  10:59:00  BANKNIFTY31AUG2337500CE  6836.15  6836.15  6820.00   \n",
       "4  2023-08-28  11:05:00  BANKNIFTY31AUG2337500CE  6850.00  6850.00  6850.00   \n",
       "\n",
       "     close      oi  volume  \n",
       "0  6780.00  8955.0      16  \n",
       "1  6794.90  8940.0      15  \n",
       "2  6836.15  8925.0      15  \n",
       "3  6820.00  8895.0      30  \n",
       "4  6850.00  8880.0      45  "
      ]
     },
     "execution_count": 3,
     "metadata": {},
     "output_type": "execute_result"
    }
   ],
   "source": [
    "df=pd.read_csv(\"full-nifty-options.csv\")\n",
    "df.head()"
   ]
  },
  {
   "cell_type": "code",
   "execution_count": 5,
   "id": "79965e32-498f-437c-bd2f-3bc738f48c7d",
   "metadata": {
    "tags": []
   },
   "outputs": [
    {
     "data": {
      "text/plain": [
       "(10167376, 9)"
      ]
     },
     "execution_count": 5,
     "metadata": {},
     "output_type": "execute_result"
    }
   ],
   "source": [
    "df.shape"
   ]
  },
  {
   "cell_type": "code",
   "execution_count": 7,
   "id": "62a8b2ea-93de-41dc-a953-2d166cb2a02c",
   "metadata": {
    "tags": []
   },
   "outputs": [
    {
     "data": {
      "text/plain": [
       "(92310, 7)"
      ]
     },
     "execution_count": 7,
     "metadata": {},
     "output_type": "execute_result"
    }
   ],
   "source": [
    "df2.shape"
   ]
  },
  {
   "cell_type": "code",
   "execution_count": 8,
   "id": "af862f5f-eaf3-4e45-9cea-84d631f0472d",
   "metadata": {
    "tags": []
   },
   "outputs": [
    {
     "name": "stdout",
     "output_type": "stream",
     "text": [
      "symbol\n",
      "BANKNIFTY28SEP2344800PE    2256\n",
      "BANKNIFTY28SEP2344700CE    2256\n",
      "BANKNIFTY28SEP2344400PE    2256\n",
      "BANKNIFTY28SEP2345200CE    2256\n",
      "BANKNIFTY28SEP2343800PE    2256\n",
      "                           ... \n",
      "BANKNIFTY13DEC2341700CE       1\n",
      "BANKNIFTY22NOV2348500PE       1\n",
      "BANKNIFTY18MAY2347500PE       1\n",
      "BANKNIFTY22NOV2346400PE       1\n",
      "BANKNIFTY18MAY2348000PE       1\n",
      "Name: count, Length: 9160, dtype: int64\n"
     ]
    }
   ],
   "source": [
    "print(df['symbol'].value_counts())"
   ]
  },
  {
   "cell_type": "code",
   "execution_count": 10,
   "id": "57be5e4a-736a-4fb0-af47-97489557b0d1",
   "metadata": {
    "tags": []
   },
   "outputs": [
    {
     "name": "stdout",
     "output_type": "stream",
     "text": [
      "9160\n"
     ]
    }
   ],
   "source": [
    "print(len(df['symbol'].unique()))"
   ]
  },
  {
   "cell_type": "code",
   "execution_count": null,
   "id": "2204c880-b4f8-49b6-85a7-85ab7817f4a5",
   "metadata": {},
   "outputs": [],
   "source": []
  }
 ],
 "metadata": {
  "kernelspec": {
   "display_name": "Python 3 (ipykernel)",
   "language": "python",
   "name": "python3"
  },
  "language_info": {
   "codemirror_mode": {
    "name": "ipython",
    "version": 3
   },
   "file_extension": ".py",
   "mimetype": "text/x-python",
   "name": "python",
   "nbconvert_exporter": "python",
   "pygments_lexer": "ipython3",
   "version": "3.11.7"
  }
 },
 "nbformat": 4,
 "nbformat_minor": 5
}
